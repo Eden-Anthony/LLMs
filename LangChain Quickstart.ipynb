{
 "cells": [
  {
   "cell_type": "code",
   "execution_count": 8,
   "metadata": {},
   "outputs": [],
   "source": [
    "from langchain.llms import OpenAI\n",
    "llm = OpenAI(temperature = 0.5) # temperature is a measure of randomness\n",
    "#print(llm.predict('How old was donald trump in 1987?'))\n"
   ]
  },
  {
   "cell_type": "code",
   "execution_count": 13,
   "metadata": {},
   "outputs": [],
   "source": [
    "from langchain.chat_models import ChatOpenAI\n",
    "from langchain.schema import (AIMessage,HumanMessage,SystemMessage)\n",
    "\n",
    "chat = ChatOpenAI(temperature = 0.5)\n",
    "#print(chat.predict_messages([HumanMessage(content=\"whats 9+10 (hint, the answer I want is referencing a meme)\")]))"
   ]
  },
  {
   "cell_type": "code",
   "execution_count": 5,
   "metadata": {},
   "outputs": [
    {
     "data": {
      "text/plain": [
       "'21 (the answer from the \"What\\'s 9+10?\" meme)'"
      ]
     },
     "execution_count": 5,
     "metadata": {},
     "output_type": "execute_result"
    }
   ],
   "source": [
    "chat.predict(\"whats 9+10 (hint, the answer I want is referencing a meme)\")"
   ]
  },
  {
   "cell_type": "code",
   "execution_count": 7,
   "metadata": {},
   "outputs": [
    {
     "data": {
      "text/plain": [
       "\"As an AI language model, I do not have personal preferences or opinions. However, based on online reviews and ratings, some of the best gyms in Soho for athletes are:\\n\\n1. Equinox Soho: This gym offers a range of equipment and classes for athletes, including strength training, cardio, and yoga. It also has a spacious and well-maintained facility.\\n\\n2. Barry's Bootcamp: This gym is known for its high-intensity interval training (HIIT) classes that are designed to challenge athletes and improve their fitness levels.\\n\\n3. SoulCycle Soho: This gym offers indoor cycling classes that are popular among athletes looking to improve their endurance and cardiovascular health.\\n\\n4. Fhitting Room: This gym offers group classes that combine strength training and HIIT workouts, making it a great option for athletes looking for a challenging and varied workout.\\n\\n5. Rumble Boxing: This gym offers boxing-inspired workouts that are great for athletes looking to improve their strength, agility, and coordination.\""
      ]
     },
     "execution_count": 7,
     "metadata": {},
     "output_type": "execute_result"
    }
   ],
   "source": [
    "from langchain.prompts import PromptTemplate\n",
    "\n",
    "genericTemplate = PromptTemplate.from_template(\"What is the best {amenity} in {location} for {reason}\")\n",
    "gymPrompt = template.format(amenity = \"gym\", location = \"Soho\", reason = \"athletes\")\n",
    "chat.predict(gymPrompt)\n"
   ]
  },
  {
   "attachments": {},
   "cell_type": "markdown",
   "metadata": {},
   "source": [
    "**Playing with Chains**\\\n",
    "These pass your input first to a PromptTemplate which is then passed to an LLM. "
   ]
  },
  {
   "cell_type": "code",
   "execution_count": 14,
   "metadata": {},
   "outputs": [
    {
     "data": {
      "text/plain": [
       "'?\\n\\nThe best gym in Soho for athletes is Equinox Soho. It offers a wide range of equipment and classes for athletes, as well as a wide variety of amenities. It also has a team of expert trainers to help you reach your fitness goals.'"
      ]
     },
     "execution_count": 14,
     "metadata": {},
     "output_type": "execute_result"
    }
   ],
   "source": [
    "from langchain.chains import LLMChain\n",
    "\n",
    "chain = LLMChain(llm = llm, prompt = prompt)\n",
    "#chain.run({'amenity':\"gym\", 'location':\"Soho\", 'reason':\"athletes\"})\n",
    "chain.run(amenity= \"gym\", location= \"Soho\", reason= \"athletes\")"
   ]
  },
  {
   "attachments": {},
   "cell_type": "markdown",
   "metadata": {},
   "source": [
    "**Roles**\n",
    "- Notice how in the following example, we use more specific roles (chat, system & human), rather than just the generic template we used previously (these are specifc to openAI)\n",
    "- The 'System' role can be used to declare messages that determine the behaviour/ personality of the 'Assistant'. For example, your typical \"You are XGPT\" type of prompts. \n",
    "- The 'User' sends requests for the 'Assistant' to respond to.\\\n",
    "\n",
    "**Why Chat Models?**\\\n",
    "The APIs are stateless, so the inputs you send are all the context the LLM will have. Chats act as a memory of sorts, collating all neccessary context you'd want based on a series of messages/prompts, e.g.:\n",
    "\n",
    "**And What about Chains?**\\\n",
    "Chains provide a way to link the various primitives surrounding LLMs (e.g. prompts, models and other chains)\n",
    "~~~\n",
    "openai.ChatCompletion.create(\n",
    "  model=\"gpt-3.5-turbo\",\n",
    "  messages=[\n",
    "        {\"role\": \"system\", \"content\": \"You are a helpful assistant.\"},\n",
    "        {\"role\": \"user\", \"content\": \"Who won the world series in 2020?\"},\n",
    "        {\"role\": \"assistant\", \"content\": \"The Los Angeles Dodgers won the World Series in 2020.\"},\n",
    "        {\"role\": \"user\", \"content\": \"Where was it played?\"}\n",
    "    ]\n",
    ")\n",
    "~~~"
   ]
  },
  {
   "cell_type": "code",
   "execution_count": 20,
   "metadata": {},
   "outputs": [
    {
     "data": {
      "text/plain": [
       "\"What's up, friend?\""
      ]
     },
     "execution_count": 20,
     "metadata": {},
     "output_type": "execute_result"
    }
   ],
   "source": [
    "from langchain.prompts.chat import (ChatPromptTemplate, SystemMessagePromptTemplate, HumanMessagePromptTemplate)\n",
    "GPT = ChatOpenAI(temperature=1)\n",
    "\n",
    "system_template = \"You are a linguistic guru that translates {input} to {output}\"\n",
    "system_message_prompt = SystemMessagePromptTemplate.from_template(system_template)\n",
    "human_template = \"{text}\"\n",
    "human_message_prompt = HumanMessagePromptTemplate.from_template(human_template)\n",
    "chat_prompt = ChatPromptTemplate.from_messages([system_message_prompt, human_message_prompt])\n",
    "chain = LLMChain(llm=GPT, prompt = chat_prompt)\n",
    "chain.run(input = \"Spanish\",output = \"English\", text = \"Que pasa amigo?\")"
   ]
  },
  {
   "cell_type": "code",
   "execution_count": null,
   "metadata": {},
   "outputs": [],
   "source": []
  }
 ],
 "metadata": {
  "kernelspec": {
   "display_name": "base",
   "language": "python",
   "name": "python3"
  },
  "language_info": {
   "codemirror_mode": {
    "name": "ipython",
    "version": 3
   },
   "file_extension": ".py",
   "mimetype": "text/x-python",
   "name": "python",
   "nbconvert_exporter": "python",
   "pygments_lexer": "ipython3",
   "version": "3.9.16"
  },
  "orig_nbformat": 4
 },
 "nbformat": 4,
 "nbformat_minor": 2
}
