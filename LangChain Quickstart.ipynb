{
 "cells": [
  {
   "cell_type": "code",
   "execution_count": 2,
   "metadata": {},
   "outputs": [],
   "source": [
    "from langchain.llms import OpenAI\n",
    "llm = OpenAI(temperature = 0.5) # temperature is a measure of randomness\n",
    "#print(llm.predict('How old was donald trump in 1987?'))\n"
   ]
  },
  {
   "cell_type": "code",
   "execution_count": 13,
   "metadata": {},
   "outputs": [],
   "source": [
    "from langchain.chat_models import ChatOpenAI\n",
    "from langchain.schema import (AIMessage,HumanMessage,SystemMessage)\n",
    "\n",
    "chat = ChatOpenAI(temperature = 0.5)\n",
    "#print(chat.predict_messages([HumanMessage(content=\"whats 9+10 (hint, the answer I want is referencing a meme)\")]))"
   ]
  },
  {
   "cell_type": "code",
   "execution_count": 5,
   "metadata": {},
   "outputs": [
    {
     "data": {
      "text/plain": [
       "'21 (the answer from the \"What\\'s 9+10?\" meme)'"
      ]
     },
     "execution_count": 5,
     "metadata": {},
     "output_type": "execute_result"
    }
   ],
   "source": [
    "chat.predict(\"whats 9+10 (hint, the answer I want is referencing a meme)\")"
   ]
  },
  {
   "cell_type": "code",
   "execution_count": 7,
   "metadata": {},
   "outputs": [
    {
     "data": {
      "text/plain": [
       "\"As an AI language model, I do not have personal preferences or opinions. However, based on online reviews and ratings, some of the best gyms in Soho for athletes are:\\n\\n1. Equinox Soho: This gym offers a range of equipment and classes for athletes, including strength training, cardio, and yoga. It also has a spacious and well-maintained facility.\\n\\n2. Barry's Bootcamp: This gym is known for its high-intensity interval training (HIIT) classes that are designed to challenge athletes and improve their fitness levels.\\n\\n3. SoulCycle Soho: This gym offers indoor cycling classes that are popular among athletes looking to improve their endurance and cardiovascular health.\\n\\n4. Fhitting Room: This gym offers group classes that combine strength training and HIIT workouts, making it a great option for athletes looking for a challenging and varied workout.\\n\\n5. Rumble Boxing: This gym offers boxing-inspired workouts that are great for athletes looking to improve their strength, agility, and coordination.\""
      ]
     },
     "execution_count": 7,
     "metadata": {},
     "output_type": "execute_result"
    }
   ],
   "source": [
    "from langchain.prompts import PromptTemplate\n",
    "\n",
    "genericTemplate = PromptTemplate.from_template(\"What is the best {amenity} in {location} for {reason}\")\n",
    "gymPrompt = template.format(amenity = \"gym\", location = \"Soho\", reason = \"athletes\")\n",
    "chat.predict(gymPrompt)\n"
   ]
  },
  {
   "attachments": {},
   "cell_type": "markdown",
   "metadata": {},
   "source": [
    "**Playing with Chains**\\\n",
    "These pass your input first to a PromptTemplate which is then passed to an LLM. "
   ]
  },
  {
   "cell_type": "code",
   "execution_count": 14,
   "metadata": {},
   "outputs": [
    {
     "data": {
      "text/plain": [
       "'?\\n\\nThe best gym in Soho for athletes is Equinox Soho. It offers a wide range of equipment and classes for athletes, as well as a wide variety of amenities. It also has a team of expert trainers to help you reach your fitness goals.'"
      ]
     },
     "execution_count": 14,
     "metadata": {},
     "output_type": "execute_result"
    }
   ],
   "source": [
    "from langchain.chains import LLMChain\n",
    "\n",
    "chain = LLMChain(llm = llm, prompt = prompt)\n",
    "#chain.run({'amenity':\"gym\", 'location':\"Soho\", 'reason':\"athletes\"})\n",
    "chain.run(amenity= \"gym\", location= \"Soho\", reason= \"athletes\")"
   ]
  },
  {
   "attachments": {},
   "cell_type": "markdown",
   "metadata": {},
   "source": [
    "**Roles**\n",
    "- Notice how in the following example, we use more specific roles (chat, system & human), rather than just the generic template we used previously (these are specifc to openAI)\n",
    "- The 'System' role can be used to declare messages that determine the behaviour/ personality of the 'Assistant'. For example, your typical \"You are XGPT\" type of prompts. \n",
    "- The 'User' sends requests for the 'Assistant' to respond to.\\\n",
    "\n",
    "**Why Chat Models?**\\\n",
    "The APIs are stateless, so the inputs you send are all the context the LLM will have. Chats act as a memory of sorts, collating all neccessary context you'd want based on a series of messages/prompts, e.g.:\n",
    "\n",
    "**And What about Chains?**\\\n",
    "Chains provide a way to link the various primitives surrounding LLMs (e.g. prompts, models and other chains)\n",
    "~~~\n",
    "openai.ChatCompletion.create(\n",
    "  model=\"gpt-3.5-turbo\",\n",
    "  messages=[\n",
    "        {\"role\": \"system\", \"content\": \"You are a helpful assistant.\"},\n",
    "        {\"role\": \"user\", \"content\": \"Who won the world series in 2020?\"},\n",
    "        {\"role\": \"assistant\", \"content\": \"The Los Angeles Dodgers won the World Series in 2020.\"},\n",
    "        {\"role\": \"user\", \"content\": \"Where was it played?\"}\n",
    "    ]\n",
    ")\n",
    "~~~"
   ]
  },
  {
   "cell_type": "code",
   "execution_count": 20,
   "metadata": {},
   "outputs": [
    {
     "data": {
      "text/plain": [
       "\"What's up, friend?\""
      ]
     },
     "execution_count": 20,
     "metadata": {},
     "output_type": "execute_result"
    }
   ],
   "source": [
    "from langchain.prompts.chat import (ChatPromptTemplate, SystemMessagePromptTemplate, HumanMessagePromptTemplate)\n",
    "GPT = ChatOpenAI(temperature=1)\n",
    "\n",
    "system_template = \"You are a linguistic guru that translates {input} to {output}\"\n",
    "system_message_prompt = SystemMessagePromptTemplate.from_template(system_template)\n",
    "human_template = \"{text}\"\n",
    "human_message_prompt = HumanMessagePromptTemplate.from_template(human_template)\n",
    "chat_prompt = ChatPromptTemplate.from_messages([system_message_prompt, human_message_prompt])\n",
    "chain = LLMChain(llm=GPT, prompt = chat_prompt) # Here we've 'chained' togeather a model and a prompt\n",
    "chain.run(input = \"Spanish\",output = \"English\", text = \"Que pasa amigo?\")"
   ]
  },
  {
   "attachments": {},
   "cell_type": "markdown",
   "metadata": {},
   "source": [
    "**Agents**\\\n",
    "Agents provide autonomy in the way a workflow is undertaken. Unlike chains that use predefined steps, these use LLMs to determine their next prompt and then take action.\\\n",
    "Each agent needs a: tool (e.g. search engine, database lookup, etc) in order to produce a final output, LLM and name"
   ]
  },
  {
   "cell_type": "code",
   "execution_count": 2,
   "metadata": {},
   "outputs": [
    {
     "name": "stdout",
     "output_type": "stream",
     "text": [
      "\n",
      "\n",
      "\u001b[1m> Entering new  chain...\u001b[0m\n",
      "\u001b[32;1m\u001b[1;3m I need to find out the temperature first and then raise it to a power afterwards\n",
      "Action: Search\n",
      "Action Input: Peak temperature in Wandsworth London yesterday\u001b[0m\n",
      "Observation: \u001b[36;1m\u001b[1;3mhttps://www.timeanddate.com/weather/@2634812/historic\u001b[0m\n",
      "Thought:\u001b[32;1m\u001b[1;3m It looks like the highest temperature yesterday was 19°C\n",
      "Action: Calculator\n",
      "Action Input: 19^0.035\u001b[0m\n",
      "Observation: \u001b[33;1m\u001b[1;3mAnswer: 1.1085527815934937\u001b[0m\n",
      "Thought:\u001b[32;1m\u001b[1;3m I now know the final answer\n",
      "Final Answer: 1.1085527815934937\u001b[0m\n",
      "\n",
      "\u001b[1m> Finished chain.\u001b[0m\n"
     ]
    },
    {
     "data": {
      "text/plain": [
       "'1.1085527815934937'"
      ]
     },
     "execution_count": 2,
     "metadata": {},
     "output_type": "execute_result"
    }
   ],
   "source": [
    "from langchain.agents import AgentType, initialize_agent, load_tools\n",
    "from langchain.llms import OpenAI\n",
    "\n",
    "llm = OpenAI(temperature=1) #Use GPT as the LLM for the agent\n",
    "tools = load_tools([\"serpapi\", \"llm-math\"], llm = llm)\n",
    "\n",
    "agent = initialize_agent(tools, llm, agent = AgentType.ZERO_SHOT_REACT_DESCRIPTION, verbose = True) # Note, ZERO_SHOT_REACT_DESCRIPTION, is the default agent type anyway\n",
    "agent.run(\"What was the peak temperature in Wandsworth London yesterday in degrees Celcius? What is that number raised to the .035 power?\")"
   ]
  },
  {
   "attachments": {},
   "cell_type": "markdown",
   "metadata": {},
   "source": [
    "**Doing the same as above but with chat models**"
   ]
  },
  {
   "cell_type": "code",
   "execution_count": 5,
   "metadata": {},
   "outputs": [
    {
     "name": "stdout",
     "output_type": "stream",
     "text": [
      "\n",
      "\n",
      "\u001b[1m> Entering new  chain...\u001b[0m\n",
      "\u001b[32;1m\u001b[1;3mThought: I need to use the Search tool to find the current value of the S&P 500 index and the value from 2 months ago to calculate the percentage change.\n",
      "\n",
      "Action:\n",
      "```\n",
      "{\n",
      "  \"action\": \"Search\",\n",
      "  \"action_input\": \"S&P 500 index value 2 months ago vs today\"\n",
      "}\n",
      "```\n",
      "\n",
      "\u001b[0m\n",
      "Observation: \u001b[36;1m\u001b[1;3mThe Standard and Poor's 500, or simply the S&P 500, is a stock market index tracking the stock performance of 500 of the largest companies listed on stock exchanges in the United States. It is one of the most commonly followed equity indices.\u001b[0m\n",
      "Thought:\u001b[32;1m\u001b[1;3mI need to refine my search to find the actual percentage change of the S&P 500 over the past 2 months.\n",
      "\n",
      "Action:\n",
      "```\n",
      "{\n",
      "  \"action\": \"Search\",\n",
      "  \"action_input\": \"S&P 500 percentage change past 2 months\"\n",
      "}\n",
      "```\n",
      "\n",
      "\u001b[0m\n",
      "Observation: \u001b[36;1m\u001b[1;3mThe Standard and Poor's 500, or simply the S&P 500, is a stock market index tracking the stock performance of 500 of the largest companies listed on stock exchanges in the United States. It is one of the most commonly followed equity indices.\u001b[0m\n",
      "Thought:\u001b[32;1m\u001b[1;3mI need to refine my search query further to get a more specific answer. Perhaps I should include a specific date range or look for a news article discussing the S&P 500 over the past 2 months.\n",
      "\n",
      "Action:\n",
      "```\n",
      "{\n",
      "  \"action\": \"Search\",\n",
      "  \"action_input\": \"S&P 500 percentage change August 2021 to October 2021\"\n",
      "}\n",
      "```\n",
      "\n",
      "\u001b[0m\n",
      "Observation: \u001b[36;1m\u001b[1;3mBasic Info. S&P 500 is at a current level of 4179.83, up from 4169.48 last month and up from 4132.15 one year ago. This is a change of 0.25% from last month ...\u001b[0m\n",
      "Thought:\u001b[32;1m\u001b[1;3mI need to calculate the exact percentage change of the S&P 500 index over the last 2 months from the information provided.\n",
      "\n",
      "Action:\n",
      "```\n",
      "{\n",
      "  \"action\": \"Calculator\",\n",
      "  \"action_input\": \"(4179.83-4169.48)/4169.48*100\"\n",
      "}\n",
      "```\n",
      "\n",
      "\u001b[0m\n",
      "Observation: \u001b[33;1m\u001b[1;3mAnswer: 0.24823239348792572\u001b[0m\n",
      "Thought:\u001b[32;1m\u001b[1;3mThe percentage change of the S&P 500 index over the last 2 months is 0.25%.\n",
      "\n",
      "Final Answer: 0.25%\u001b[0m\n",
      "\n",
      "\u001b[1m> Finished chain.\u001b[0m\n"
     ]
    },
    {
     "data": {
      "text/plain": [
       "'0.25%'"
      ]
     },
     "execution_count": 5,
     "metadata": {},
     "output_type": "execute_result"
    }
   ],
   "source": [
    "from langchain.agents import load_tools, initialize_agent, AgentType\n",
    "from langchain.chat_models import ChatOpenAI\n",
    "\n",
    "#chat model\n",
    "chat = ChatOpenAI(temperature = 1)\n",
    "\n",
    "#tools\n",
    "llm = OpenAI(temperature=1)\n",
    "tools = load_tools ([\"serpapi\", \"llm-math\"], llm = llm)\n",
    "\n",
    "agent = initialize_agent(tools, chat, agent=AgentType.CHAT_ZERO_SHOT_REACT_DESCRIPTION, verbose = True)\n",
    "\n",
    "agent.run(\"What is the percentage change of the S&P 500 index over the last 2 months?\")"
   ]
  },
  {
   "cell_type": "code",
   "execution_count": null,
   "metadata": {},
   "outputs": [],
   "source": []
  }
 ],
 "metadata": {
  "kernelspec": {
   "display_name": "base",
   "language": "python",
   "name": "python3"
  },
  "language_info": {
   "codemirror_mode": {
    "name": "ipython",
    "version": 3
   },
   "file_extension": ".py",
   "mimetype": "text/x-python",
   "name": "python",
   "nbconvert_exporter": "python",
   "pygments_lexer": "ipython3",
   "version": "3.9.16"
  },
  "orig_nbformat": 4
 },
 "nbformat": 4,
 "nbformat_minor": 2
}
